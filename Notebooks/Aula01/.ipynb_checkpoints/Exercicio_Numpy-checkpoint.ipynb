{
 "cells": [
  {
   "cell_type": "markdown",
   "id": "4bece3fc",
   "metadata": {},
   "source": [
    "# Exercício"
   ]
  },
  {
   "cell_type": "markdown",
   "id": "6d0f5db4",
   "metadata": {},
   "source": [
    "1. Crie um array NumPy unidimensional com os números de 1 a 10.\n",
    "   \n",
    "2. Crie um array NumPy bidimensional 3x3 preenchido com zeros.\n",
    "   \n",
    "3. Crie um array NumPy bidimensional 4x4 preenchido com uns.\n",
    "   \n",
    "4. Crie um array NumPy com 20 valores aleatórios entre 0 e 100.\n",
    "5. Crie um array NumPy unidimensional com espaçamento de 0.5 entre 0 e 10.\n",
    "6. Crie um array NumPy bidimensional 5x5 com valores aleatórios inteiros entre 1 e 100.\n",
    "7. Dada a matriz A = [[1, 2, 3], [4, 5, 6], [7, 8, 9]], crie um array NumPy contendo apenas a segunda coluna da matriz A.\n",
    "8. Dado o array NumPy x = [1, 2, 3, 4, 5], crie um novo array onde todos os valores pares sejam substituídos por -1.\n",
    "9.  Dado o array NumPy x = [1, 2, 3, 4, 5], crie um novo array onde todos os valores maiores que 2 sejam substituídos por 0.\n",
    "10. Dado o array NumPy x = [1, 2, 3, 4, 5], normalize os valores do array de forma que a soma seja igual a 1.\n",
    "11. Dada a matriz A = [[1, 2], [3, 4]] e a matriz B = [[5, 6], [7, 8]], calcule a multiplicação matricial entre A e B.\n",
    "12. Dado o array NumPy x = [1, 2, 3], crie um novo array com os valores de x repetidos três vezes.\n",
    "13. Dado o array NumPy x = [1, 2, 3], crie um novo array com os valores de x repetidos lado a lado três vezes.\n",
    "14. Dado o array NumPy x = [1, 2, 3], crie um novo array com os valores de x repetidos verticalmente três vezes.\n",
    "15. Dado o array NumPy x = [1, 2, 3], inverta a ordem dos elementos do array."
   ]
  },
  {
   "cell_type": "code",
   "execution_count": 1,
   "id": "383dee56",
   "metadata": {},
   "outputs": [],
   "source": [
    "import numpy as np"
   ]
  },
  {
   "cell_type": "code",
   "execution_count": 2,
   "id": "2ad75bde",
   "metadata": {},
   "outputs": [
    {
     "name": "stdout",
     "output_type": "stream",
     "text": [
      "[ 1  2  3  4  5  6  7  8  9 10]\n"
     ]
    }
   ],
   "source": [
    "# 1. Crie um array NumPy unidimensional com os números de 1 a 10.\n",
    "\n",
    "array = np.arange(1, 11)\n",
    "print(array)"
   ]
  },
  {
   "cell_type": "code",
   "execution_count": 3,
   "id": "8b5a296a",
   "metadata": {},
   "outputs": [
    {
     "name": "stdout",
     "output_type": "stream",
     "text": [
      "[[0. 0. 0.]\n",
      " [0. 0. 0.]\n",
      " [0. 0. 0.]]\n"
     ]
    }
   ],
   "source": [
    "# 2. Crie um array NumPy bidimensional 3x3 preenchido com zeros.\n",
    "array = np.zeros((3, 3))\n",
    "print(array)"
   ]
  },
  {
   "cell_type": "code",
   "execution_count": 4,
   "id": "394b1a84",
   "metadata": {},
   "outputs": [
    {
     "name": "stdout",
     "output_type": "stream",
     "text": [
      "[[1. 1. 1. 1.]\n",
      " [1. 1. 1. 1.]\n",
      " [1. 1. 1. 1.]\n",
      " [1. 1. 1. 1.]]\n"
     ]
    }
   ],
   "source": [
    "# 3. Crie um array NumPy bidimensional 4x4 preenchido com uns.\n",
    "\n",
    "array = np.ones((4, 4))\n",
    "print(array)"
   ]
  },
  {
   "cell_type": "code",
   "execution_count": 5,
   "id": "fb393a5b",
   "metadata": {},
   "outputs": [
    {
     "name": "stdout",
     "output_type": "stream",
     "text": [
      "[65 24 87  0 64 21 69 72 90 11  1 25 58 15  3 10 65 42 72 45]\n"
     ]
    }
   ],
   "source": [
    "# 4. Crie um array NumPy com 20 valores aleatórios entre 0 e 100.\n",
    "\n",
    "array = np.random.randint(0, 100, 20)\n",
    "print(array)"
   ]
  },
  {
   "cell_type": "code",
   "execution_count": 19,
   "id": "2fe732df",
   "metadata": {},
   "outputs": [
    {
     "data": {
      "text/plain": [
       "array([90.62685083, 15.33012111, 77.65772572, 74.01882848, 32.48888672,\n",
       "       85.51378488, 32.85863935, 26.02507337, 21.51747568, 29.82049504,\n",
       "        6.9135942 , 20.17199302, 41.85921162, 98.82587962, 87.2334982 ,\n",
       "        1.46395598, 12.55744531, 81.82042836, 75.99024184, 46.02548657])"
      ]
     },
     "execution_count": 19,
     "metadata": {},
     "output_type": "execute_result"
    }
   ],
   "source": [
    "np.random.rand(20)*100"
   ]
  },
  {
   "cell_type": "code",
   "execution_count": 17,
   "id": "e76c7572",
   "metadata": {},
   "outputs": [
    {
     "name": "stdout",
     "output_type": "stream",
     "text": [
      "[ 0.   0.5  1.   1.5  2.   2.5  3.   3.5  4.   4.5  5.   5.5  6.   6.5\n",
      "  7.   7.5  8.   8.5  9.   9.5 10. ]\n"
     ]
    }
   ],
   "source": [
    "# 5. Crie um array NumPy unidimensional com espaçamento de 0.5 entre 0 e 10.\n",
    "\n",
    "array = np.arange(0, 10.5, 0.5)\n",
    "print(array)"
   ]
  },
  {
   "cell_type": "code",
   "execution_count": 8,
   "id": "22c2de93",
   "metadata": {},
   "outputs": [
    {
     "name": "stdout",
     "output_type": "stream",
     "text": [
      "[[36 27 18 78 64]\n",
      " [91 62 64 96 69]\n",
      " [59 74 54 39 62]\n",
      " [77 49 37 44  6]\n",
      " [95  5 72 35 88]]\n"
     ]
    }
   ],
   "source": [
    "# 6. Crie um array NumPy bidimensional 5x5 com valores aleatórios inteiros entre 1 e 100.\n",
    "\n",
    "array = np.random.randint(1, 101, (5, 5))\n",
    "print(array)"
   ]
  },
  {
   "cell_type": "code",
   "execution_count": 23,
   "id": "ea77d66b",
   "metadata": {},
   "outputs": [
    {
     "data": {
      "text/plain": [
       "array([[1, 2, 3],\n",
       "       [4, 5, 6],\n",
       "       [7, 8, 9]])"
      ]
     },
     "execution_count": 23,
     "metadata": {},
     "output_type": "execute_result"
    }
   ],
   "source": [
    "A = np.array([[1, 2, 3], [4, 5, 6], [7, 8, 9]])\n",
    "A"
   ]
  },
  {
   "cell_type": "code",
   "execution_count": 24,
   "id": "afc4868f",
   "metadata": {},
   "outputs": [
    {
     "data": {
      "text/plain": [
       "2"
      ]
     },
     "execution_count": 24,
     "metadata": {},
     "output_type": "execute_result"
    }
   ],
   "source": [
    "A.ndim"
   ]
  },
  {
   "cell_type": "code",
   "execution_count": 9,
   "id": "0c5bc380",
   "metadata": {},
   "outputs": [
    {
     "name": "stdout",
     "output_type": "stream",
     "text": [
      "[2 5 8]\n"
     ]
    }
   ],
   "source": [
    "# 7. Dada a matriz A = [[1, 2, 3], [4, 5, 6], [7, 8, 9]], crie um array NumPy contendo apenas a segunda coluna da matriz A.\n",
    "\n",
    "A = np.array([[1, 2, 3], [4, 5, 6], [7, 8, 9]])\n",
    "segunda_coluna = A[:, 1]\n",
    "print(segunda_coluna)"
   ]
  },
  {
   "cell_type": "code",
   "execution_count": 10,
   "id": "6658a6b6",
   "metadata": {},
   "outputs": [
    {
     "name": "stdout",
     "output_type": "stream",
     "text": [
      "[ 1 -1  3 -1  5]\n"
     ]
    }
   ],
   "source": [
    "# 8. Dado o array NumPy x = [1, 2, 3, 4, 5], crie um novo array onde todos os valores pares sejam substituídos por -1.\n",
    "\n",
    "x = np.array([1, 2, 3, 4, 5])\n",
    "novo_array = np.where(x % 2 == 0, -1, x)\n",
    "print(novo_array)"
   ]
  },
  {
   "cell_type": "code",
   "execution_count": 11,
   "id": "f12c5af8",
   "metadata": {},
   "outputs": [
    {
     "name": "stdout",
     "output_type": "stream",
     "text": [
      "[1 2 0 0 0]\n"
     ]
    }
   ],
   "source": [
    "# 9. Dado o array NumPy x = [1, 2, 3, 4, 5], crie um novo array onde todos os valores maiores que 2 sejam substituídos por 0.\n",
    "\n",
    "x = np.array([1, 2, 3, 4, 5])\n",
    "novo_array = np.where(x > 2, 0, x)\n",
    "print(novo_array)"
   ]
  },
  {
   "cell_type": "code",
   "execution_count": 12,
   "id": "3fc2109e",
   "metadata": {},
   "outputs": [
    {
     "name": "stdout",
     "output_type": "stream",
     "text": [
      "[0.06666667 0.13333333 0.2        0.26666667 0.33333333]\n"
     ]
    }
   ],
   "source": [
    "# 10. Dado o array NumPy x = [1, 2, 3, 4, 5], normalize os valores do array de forma que a soma seja igual a 1.\n",
    "\n",
    "x = np.array([1, 2, 3, 4, 5])\n",
    "x_norm = x / np.sum(x)\n",
    "\n",
    "print(x_norm)"
   ]
  },
  {
   "cell_type": "code",
   "execution_count": 13,
   "id": "7b26b16d",
   "metadata": {},
   "outputs": [
    {
     "name": "stdout",
     "output_type": "stream",
     "text": [
      "[[19 22]\n",
      " [43 50]]\n"
     ]
    }
   ],
   "source": [
    "# 11. Dada a matriz A = [[1, 2], [3, 4]] e a matriz B = [[5, 6], [7, 8]], calcule a multiplicação matricial entre A e B.\n",
    "\n",
    "A = np.array([[1, 2], [3, 4]])\n",
    "B = np.array([[5, 6], [7, 8]])\n",
    "multiplicacao = np.dot(A, B)\n",
    "\n",
    "print(multiplicacao)"
   ]
  },
  {
   "cell_type": "code",
   "execution_count": 14,
   "id": "5b4ea01b",
   "metadata": {},
   "outputs": [
    {
     "name": "stdout",
     "output_type": "stream",
     "text": [
      "[1 2 3 1 2 3 1 2 3]\n"
     ]
    }
   ],
   "source": [
    "# 12. Dado o array NumPy x = [1, 2, 3], crie um novo array com os valores de x repetidos três vezes.\n",
    "\n",
    "x = np.array([1, 2, 3])\n",
    "novo_array = np.tile(x, 3)\n",
    "print(novo_array)"
   ]
  },
  {
   "cell_type": "code",
   "execution_count": 15,
   "id": "0f6afc5f",
   "metadata": {},
   "outputs": [
    {
     "name": "stdout",
     "output_type": "stream",
     "text": [
      "[1 1 1 2 2 2 3 3 3]\n"
     ]
    }
   ],
   "source": [
    "# 13. Dado o array NumPy x = [1, 2, 3], crie um novo array com os valores de x repetidos lado a lado três vezes.\n",
    "\n",
    "x = np.array([1, 2, 3])\n",
    "novo_array = np.repeat(x, 3)\n",
    "print(novo_array)"
   ]
  },
  {
   "cell_type": "code",
   "execution_count": 16,
   "id": "d74b16ac",
   "metadata": {},
   "outputs": [
    {
     "name": "stdout",
     "output_type": "stream",
     "text": [
      "[[1 2 3]\n",
      " [1 2 3]\n",
      " [1 2 3]]\n"
     ]
    }
   ],
   "source": [
    "# 14. Dado o array NumPy x = [1, 2, 3], crie um novo array com os valores de x repetidos verticalmente três vezes.\n",
    "\n",
    "x = np.array([1, 2, 3])\n",
    "novo_array = np.tile(x, (3, 1))\n",
    "print(novo_array)"
   ]
  },
  {
   "cell_type": "code",
   "execution_count": 18,
   "id": "756b0e13",
   "metadata": {},
   "outputs": [
    {
     "name": "stdout",
     "output_type": "stream",
     "text": [
      "[3 2 1]\n"
     ]
    }
   ],
   "source": [
    "# 15. Dado o array NumPy x = [1, 2, 3], inverta a ordem dos elementos do array.\n",
    "\n",
    "x = np.array([1, 2, 3])\n",
    "array_invertido = np.flip(x)\n",
    "print(array_invertido)"
   ]
  },
  {
   "cell_type": "code",
   "execution_count": null,
   "id": "2fa73b91",
   "metadata": {},
   "outputs": [],
   "source": []
  }
 ],
 "metadata": {
  "kernelspec": {
   "display_name": "Python 3 (ipykernel)",
   "language": "python",
   "name": "python3"
  },
  "language_info": {
   "codemirror_mode": {
    "name": "ipython",
    "version": 3
   },
   "file_extension": ".py",
   "mimetype": "text/x-python",
   "name": "python",
   "nbconvert_exporter": "python",
   "pygments_lexer": "ipython3",
   "version": "3.9.7"
  }
 },
 "nbformat": 4,
 "nbformat_minor": 5
}
